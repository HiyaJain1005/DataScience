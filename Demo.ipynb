{
 "cells": [
  {
   "cell_type": "code",
   "execution_count": 1,
   "metadata": {},
   "outputs": [
    {
     "name": "stdout",
     "output_type": "stream",
     "text": [
      "Numpy array: [1 2 3 4 5]\n",
      "Mean of the array: 3.0\n"
     ]
    }
   ],
   "source": [
    "# This is a simple Python code cell in Jupyter Notebook\n",
    "import numpy as np\n",
    "\n",
    "# Create a numpy array\n",
    "array = np.array([1, 2, 3, 4, 5])\n",
    "\n",
    "# Print the array\n",
    "print(\"Numpy array:\", array)\n",
    "\n",
    "# Calculate the mean of the array\n",
    "mean = np.mean(array)\n",
    "print(\"Mean of the array:\", mean)"
   ]
  }
 ],
 "metadata": {
  "kernelspec": {
   "display_name": "myenv",
   "language": "python",
   "name": "python3"
  },
  "language_info": {
   "codemirror_mode": {
    "name": "ipython",
    "version": 3
   },
   "file_extension": ".py",
   "mimetype": "text/x-python",
   "name": "python",
   "nbconvert_exporter": "python",
   "pygments_lexer": "ipython3",
   "version": "3.13.1"
  }
 },
 "nbformat": 4,
 "nbformat_minor": 2
}
